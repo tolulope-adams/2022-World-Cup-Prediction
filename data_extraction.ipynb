{
 "cells": [
  {
   "cell_type": "code",
   "execution_count": null,
   "id": "99105f5a",
   "metadata": {},
   "outputs": [],
   "source": [
    "from bs4 import BeautifulSoup\n",
    "import re\n",
    "import csv\n",
    "import requests\n",
    "import numpy as np\n",
    "import pandas as pd\n",
    "import matplotlib.pyplot as plt"
   ]
  },
  {
   "cell_type": "markdown",
   "id": "b6699c1e",
   "metadata": {},
   "source": [
    "## Links"
   ]
  },
  {
   "cell_type": "code",
   "execution_count": null,
   "id": "673e35ac",
   "metadata": {},
   "outputs": [],
   "source": [
    "WC_SQUAD_LIST_URL = \"https://www.skysports.com/football/news/12098/12741629/world-cup-2022-squad-lists-england-brazil-argentina-france-germany-spain-and-more\""
   ]
  },
  {
   "cell_type": "code",
   "execution_count": null,
   "id": "06292ee9",
   "metadata": {},
   "outputs": [],
   "source": [
    "class Player:\n",
    "    def __init__(self, name):\n",
    "        self.name = name\n",
    "        self.country = \"Unknown\"\n",
    "        self.position = \"Unknown\"\n",
    "        self.goals_scored = 0\n",
    "        self.goals_assisted = 0\n",
    "        self.tackles = 0\n",
    "        self.saves = 0\n",
    "        self.club_name = \"Unknown\"\n",
    "        self.league = \"Unknown\"\n",
    "        self.league_website = \"Unknown\"\n",
    "\n",
    "\n",
    "    def get_name(self):\n",
    "        return self.name\n",
    "\n",
    "    def set_name(self, name):\n",
    "        self.name = name\n",
    "\n",
    "    def get_country(self):\n",
    "        return self.country\n",
    "\n",
    "    def set_country(self, country):\n",
    "        self.country = country\n",
    "\n",
    "    def get_position(self):\n",
    "        return self.position\n",
    "\n",
    "    def set_position(self, position):\n",
    "        self.position = position\n",
    "\n",
    "    def get_goals_scored(self):\n",
    "        return self.goals_scored\n",
    "\n",
    "    def set_goals_scored(self, goals):\n",
    "        self.goals_scored = goals\n",
    "\n",
    "    def get_goals_assisted(self):\n",
    "        return self.goals_assisted\n",
    "\n",
    "    def set_goals_assisted(self, assists):\n",
    "        self.goals_assisted = assists\n",
    "\n",
    "    def get_tackles_won(self):\n",
    "        return self.tackles\n",
    "\n",
    "    def set_tackles_won(self, tackles):\n",
    "        self.tackles = tackles\n",
    "\n",
    "    def get_saves(self):\n",
    "        return self.saves\n",
    "\n",
    "    def set_saves(self, saves):\n",
    "        self.saves = saves\n",
    "\n",
    "    def get_club_name(self):\n",
    "        return self.club_name\n",
    "\n",
    "    def set_club_name(self, club_name):\n",
    "        self.club_name = club_name\n",
    "\n",
    "    def get_club_league(self):\n",
    "        return self.league\n",
    "\n",
    "    def set_club_league(self, league):\n",
    "        self.league = league\n",
    "\n",
    "    def get_league_website(self):\n",
    "        return self.league_website\n",
    "\n",
    "    def set_league_website(self, league_website):\n",
    "        self.league_website = league_website\n",
    "        \n",
    "    def get_attributes(self):\n",
    "        return [self.name , self.country, self.position, self.goals_scored,\n",
    "                self.goals_assisted, self.tackles, self.saves, self.club_name,\n",
    "                self.league, self.league_website]"
   ]
  },
  {
   "cell_type": "code",
   "execution_count": null,
   "id": "fdb3619a",
   "metadata": {},
   "outputs": [],
   "source": [
    "class Country:\n",
    "    def __init__(self, name):\n",
    "        self.name = name\n",
    "        self.players = []\n",
    "\n",
    "    def get_name(self):\n",
    "        return self.name\n",
    "\n",
    "    def get_players(self):\n",
    "        return self.players\n",
    "\n",
    "    def add_player(self, player):\n",
    "        self.players.append(player)\n",
    "\n",
    "    def add_players(self, players):\n",
    "        self.players.extend(players)\n",
    "\n",
    "\n",
    "    def remove_player(self, player):\n",
    "        players.remove(player)\n",
    "\n",
    "    def count_win_rate():\n",
    "        return None\n",
    "\n",
    "    def count_clean_sheets():\n",
    "        return None\n",
    "\n",
    "    def count_total_goals_scored():\n",
    "        return None\n",
    "\n",
    "    def count_total_goals_conceeded():\n",
    "        return None\n",
    "\n",
    "    def count_passes_completed():\n",
    "        return None"
   ]
  },
  {
   "cell_type": "code",
   "execution_count": null,
   "id": "4d62ca25",
   "metadata": {},
   "outputs": [],
   "source": [
    "def create_players_from_list(player_list, position, country):\n",
    "    players = []\n",
    "    for p in player_list:\n",
    "        try:\n",
    "            player_name = p.split(\"(\")[0]\n",
    "            player_name = player_name.strip()\n",
    "\n",
    "            club_name = p.split(\"(\")[1].replace(')', '')\n",
    "            club_name = club_name.strip()\n",
    "\n",
    "            player = Player(player_name)\n",
    "            player.set_position(position)\n",
    "            player.set_country(country)\n",
    "            player.set_club_name(club_name)\n",
    "            players.append(player)\n",
    "        except Exception as e:\n",
    "            print(p + \",\" + position + \",\" + country)\n",
    "    return players"
   ]
  },
  {
   "cell_type": "code",
   "execution_count": null,
   "id": "6307b9a0",
   "metadata": {},
   "outputs": [],
   "source": [
    "def find_players_from_url(squad_url):\n",
    "    players = []\n",
    "    try:\n",
    "        response = requests.get(squad_url)\n",
    "        soup = BeautifulSoup(response.content, \"html.parser\")\n",
    "        \n",
    "        for i in range(0, 32):\n",
    "            \n",
    "            gk_tag = soup.find_all('strong', string = re.compile(r\"Goalkeeper|Goalkepeepers\"))[i].find_parent(\"p\")\n",
    "            gk_txt = re.findall(\"Goalkeepers: \" + \"(.*)\" + \".\", gk_tag.get_text().replace(\"Goalkepeepers\", \"Goalkeepers\"))[0]\n",
    "            goalkeepers = gk_txt.split(\"), \")\n",
    "\n",
    "            df_tag = soup.find_all('strong', string = re.compile(r\"Defender\"))[i].find_parent(\"p\")\n",
    "            df_txt = re.findall(\"Defenders: \" + \"(.*)\" + \".\", df_tag.get_text())[0]\n",
    "            defenders = df_txt.split(\"), \")\n",
    "\n",
    "            mf_tag = soup.find_all('strong', string = re.compile(r\"Midfielder\"))[i].find_parent(\"p\")\n",
    "            mf_txt = re.findall(\"Midfielders: \" + \"(.*)\" + \".\", mf_tag.get_text())[0]\n",
    "            midfielders = mf_txt.split(\"), \")\n",
    "\n",
    "            fw_tag = soup.find_all('strong', string = re.compile(r\"Forward|Striker\"))[i].find_parent(\"p\")\n",
    "            fw_txt = re.findall(\"Forwards: \" + \"(.*)\" + \".\", fw_tag.get_text().replace(\"Strikers\", \"Forwards\"))[0]\n",
    "            forwards = fw_txt.split(\"), \")\n",
    "            \n",
    "            \n",
    "            country_tag = gk_tag.find_previous_sibling(\"h3\")\n",
    "            country = country_tag.get_text()\n",
    "            \n",
    "            players.extend(create_players_from_list(goalkeepers, \"GK\", country))\n",
    "            players.extend(create_players_from_list(defenders, \"DF\", country))\n",
    "            players.extend(create_players_from_list(midfielders, \"MF\", country))\n",
    "            players.extend(create_players_from_list(forwards, \"FW\", country))\n",
    "            \n",
    "    except Exception as e:\n",
    "        print(e)\n",
    "        \n",
    "    return players"
   ]
  },
  {
   "cell_type": "code",
   "execution_count": null,
   "id": "fc2cabb8",
   "metadata": {},
   "outputs": [],
   "source": [
    "def create_players_file(players_list):\n",
    "    player_header = [\"name\", \"country\", \"position\", \"goals\", \"assists\", \"tackles\", \"saves\", \"club\", \"league\", \"league_website\"]\n",
    "    with open('players.csv', 'w') as file:\n",
    "        writer = csv.writer(file)\n",
    "        writer.writerow(player_header)\n",
    "    \n",
    "        for player in players_list:\n",
    "            writer.writerow(player.get_attributes())"
   ]
  },
  {
   "cell_type": "code",
   "execution_count": null,
   "id": "4b854a79",
   "metadata": {},
   "outputs": [],
   "source": [
    "# Extract players' information from website\n",
    "players = find_players_from_url(WC_SQUAD_LIST_URL)"
   ]
  },
  {
   "cell_type": "code",
   "execution_count": null,
   "id": "6ad006e9",
   "metadata": {},
   "outputs": [],
   "source": [
    "# Create a CSV file for players' data\n",
    "create_players_file(players)"
   ]
  },
  {
   "cell_type": "markdown",
   "id": "1f467344",
   "metadata": {},
   "source": [
    "## Assessing the data"
   ]
  },
  {
   "cell_type": "code",
   "execution_count": null,
   "id": "eeba8a58",
   "metadata": {},
   "outputs": [],
   "source": [
    "# Load your data\n",
    "df = pd.read_csv('players.csv')"
   ]
  },
  {
   "cell_type": "code",
   "execution_count": null,
   "id": "e0fec89f",
   "metadata": {},
   "outputs": [],
   "source": [
    "df.head(10)"
   ]
  },
  {
   "cell_type": "code",
   "execution_count": null,
   "id": "baa21181",
   "metadata": {},
   "outputs": [],
   "source": [
    "# Get the number of players per country (pc_pc)\n",
    "pc_pc = df[\"country\"].value_counts()"
   ]
  },
  {
   "cell_type": "code",
   "execution_count": null,
   "id": "75d26af4",
   "metadata": {},
   "outputs": [],
   "source": [
    "# Get the numner of countries playing in the world-cup\n",
    "countries = len(pc_pc.keys())\n",
    "countries"
   ]
  },
  {
   "cell_type": "code",
   "execution_count": null,
   "id": "87998a73",
   "metadata": {},
   "outputs": [],
   "source": [
    "# Get countries that have less than 23 players or greater than 26 players (lt_gt)\n",
    "lt_gt = pc_pc[pc_pc.values < 23]\n",
    "lt_gt = lt_gt.append(df2[pc_pc.values > 26])\n",
    "lt_gt"
   ]
  },
  {
   "cell_type": "code",
   "execution_count": null,
   "id": "d59b9ed2",
   "metadata": {},
   "outputs": [],
   "source": []
  },
  {
   "cell_type": "code",
   "execution_count": null,
   "id": "cdff965c",
   "metadata": {},
   "outputs": [],
   "source": [
    "def find_league(club_name):\n",
    "    try:\n",
    "        res = requests.get(\"https://en.wikipedia.org/wiki/\" + club_name)\n",
    "        soup = BeautifulSoup(res.content, \"html.parser\")\n",
    "        league = soup.find('th', string = re.compile('League'))\n",
    "        league_name = league.find_next_siblings(\"td\")[0].get_text()\n",
    "        return league_name\n",
    "    except:\n",
    "        return \"Unknown\""
   ]
  },
  {
   "cell_type": "code",
   "execution_count": null,
   "id": "de004cdf",
   "metadata": {},
   "outputs": [],
   "source": [
    "# Find the respective leagues of players' clubs\n",
    "for index, player in enumerate(players):\n",
    "    if df.at[index, \"league\"] == \"Unknown\":\n",
    "        df.at[index, \"league\"] = find_league(player.get_club_name())"
   ]
  },
  {
   "cell_type": "code",
   "execution_count": null,
   "id": "83faef0f",
   "metadata": {},
   "outputs": [],
   "source": [
    "df[\"league\"].value_counts()"
   ]
  },
  {
   "cell_type": "code",
   "execution_count": null,
   "id": "1e874a21",
   "metadata": {},
   "outputs": [],
   "source": [
    "def find_league_website(league):\n",
    "    res = requests.get(\"https://en.wikipedia.org/wiki/\" + league)\n",
    "    soup = BeautifulSoup(res.content, \"html.parser\")\n",
    "    website = soup.find('th', string = re.compile('Website'))\n",
    "    website_link = website.find_next_siblings(\"td\")[0].get_text()\n",
    "    return website_link"
   ]
  },
  {
   "cell_type": "code",
   "execution_count": null,
   "id": "ae74f3b4",
   "metadata": {},
   "outputs": [],
   "source": [
    "# Find the respective websistes of the different club leagues\n",
    "for index, player in enumerate(players):\n",
    "    if df.at[index, \"league_website\"] == \"Unknown\":\n",
    "        df.at[index, \"league\"] = find_league_website(player.get_club_name())\n",
    "    \n",
    "df[\"league\"].value_counts()"
   ]
  },
  {
   "cell_type": "markdown",
   "id": "8dc27898",
   "metadata": {},
   "source": [
    "## Challenges"
   ]
  },
  {
   "cell_type": "markdown",
   "id": "4eec48a6",
   "metadata": {},
   "source": [
    "Internet connectivity"
   ]
  },
  {
   "cell_type": "code",
   "execution_count": null,
   "id": "226e669a",
   "metadata": {},
   "outputs": [],
   "source": []
  }
 ],
 "metadata": {
  "kernelspec": {
   "display_name": "Python 3",
   "language": "python",
   "name": "python3"
  },
  "language_info": {
   "codemirror_mode": {
    "name": "ipython",
    "version": 3
   },
   "file_extension": ".py",
   "mimetype": "text/x-python",
   "name": "python",
   "nbconvert_exporter": "python",
   "pygments_lexer": "ipython3",
   "version": "3.8.8"
  }
 },
 "nbformat": 4,
 "nbformat_minor": 5
}
